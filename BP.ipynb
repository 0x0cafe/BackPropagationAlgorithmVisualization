{
 "cells": [
  {
   "cell_type": "markdown",
   "metadata": {},
   "source": [
    "<ol>\n",
    "<li> <strong>Input a set of training examples</strong></p><p><li> <strong>For each training example $x$:</strong> Set the corresponding\n",
    "  input activation $a^{x,1}$, and perform the following steps:</p><p><ul>\n",
    "<li> <strong>Feedforward:</strong> For each $l = 2, 3, \\ldots, L$ compute\n",
    "  $z^{x,l} = w^l a^{x,l-1}+b^l$ and $a^{x,l} = \\sigma(z^{x,l})$.</p><p><li> <strong>Output error $\\delta^{x,L}$:</strong> Compute the vector\n",
    "  $\\delta^{x,L} = \\nabla_a C_x \\odot \\sigma'(z^{x,L})$.</p><p><li> <strong>Backpropagate the error:</strong> For each $l = L-1, L-2,\n",
    "  \\ldots, 2$ compute $\\delta^{x,l} = ((w^{l+1})^T \\delta^{x,l+1})\n",
    "  \\odot \\sigma'(z^{x,l})$.\n",
    "</ul></p><p><li> <strong>Gradient descent:</strong> For each $l = L, L-1, \\ldots, 2$\n",
    "  update the weights according to the rule $w^l \\rightarrow\n",
    "  w^l-\\frac{\\eta}{m} \\sum_x \\delta^{x,l} (a^{x,l-1})^T$, and the\n",
    "  biases according to the rule $b^l \\rightarrow b^l-\\frac{\\eta}{m}\n",
    "  \\sum_x \\delta^{x,l}$.</p><p></ol>"
   ]
  },
  {
   "cell_type": "markdown",
   "metadata": {},
   "source": [
    "$$\\eqalign{\n",
    "  & Loss function =  - y\\ln \\hat y - \\left( {1 - y} \\right)\\ln \\left( {1 - \\hat y} \\right)  \\cr \n",
    "  & C = \\frac{{\\partial L}}{{\\partial \\hat y}} = \\left( {\\frac{{1 - y}}{{1 - \\hat y}} - \\frac{y}{{\\hat y}}} \\right) \\cr} $$"
   ]
  },
  {
   "attachments": {},
   "cell_type": "markdown",
   "metadata": {},
   "source": [
    "![1.jpg](1.jpg)"
   ]
  },
  {
   "cell_type": "code",
   "execution_count": 1,
   "metadata": {},
   "outputs": [],
   "source": [
    "import numpy as np\n",
    "\n",
    "class NeuralLayer:\n",
    "    \n",
    "    \n",
    "    def __init__(self,input_dim,num_units,name):\n",
    "        self.name = name\n",
    "        self.W = np.random.randn(num_units,input_dim)\n",
    "        \n",
    "    \n",
    "    def sigmoid(self,x):\n",
    "        return 1/(1 + np.exp(-x))\n",
    "    \n",
    "    \n",
    "    def forward(self,X):\n",
    "        self.X = X\n",
    "        self.sig_Z = self.sigmoid(self.W.dot(X))\n",
    "        return self.sig_Z\n",
    "    \n",
    "    \n",
    "    def backward(self,C):#C means costs\n",
    "        self.delta = C*self.sig_Z*(1-self.sig_Z)\n",
    "        self.deltaW = self.delta.dot(self.X.T)\n",
    "    \n",
    "    \n",
    "    def update(self):\n",
    "        self.W = self.W - 0.5*self.deltaW\n",
    "    \n",
    "    \n",
    "class NeuralNetwork:\n",
    "    def __init__(self):\n",
    "        self.input_layer = NeuralLayer(3,4,\"input\")\n",
    "        self.hidden_layer = NeuralLayer(4,4,\"hidden\")\n",
    "        self.output_layer = NeuralLayer(4,1,\"output\")\n",
    "    \n",
    "    \n",
    "    def forward(self,X):\n",
    "        X_h = self.input_layer.forward(X)\n",
    "        X_o = self.hidden_layer.forward(X_h)\n",
    "        self.Y_hat = self.output_layer.forward(X_o)\n",
    "        \n",
    "    \n",
    "    \n",
    "    def backward(self,C):\n",
    "        self.output_layer.backward(C)\n",
    "        self.hidden_layer.backward(self.output_layer.W.T.dot(self.output_layer.delta))\n",
    "        self.input_layer.backward(self.hidden_layer.W.T.dot(self.hidden_layer.delta))\n",
    "    \n",
    "    \n",
    "    def update(self):\n",
    "        self.input_layer.update()\n",
    "        self.hidden_layer.update()\n",
    "        self.output_layer.update()\n",
    "        \n",
    "        \n",
    "    def train(self,X,Y):\n",
    "        self.forward(X)\n",
    "        C = (1-Y)/(1-self.Y_hat)-Y/self.Y_hat\n",
    "        self.backward(C)\n",
    "        self.update()\n",
    "        \n",
    "        \n",
    "    def predict(self,X):\n",
    "        self.forward(X)\n",
    "        print(self.Y_hat)"
   ]
  },
  {
   "cell_type": "code",
   "execution_count": 2,
   "metadata": {},
   "outputs": [],
   "source": [
    "nn = NeuralNetwork()"
   ]
  },
  {
   "cell_type": "code",
   "execution_count": 3,
   "metadata": {},
   "outputs": [],
   "source": [
    "X1 = np.array([[1],[1],[1]])\n",
    "X2 = np.array([[0],[0],[1]])\n",
    "X3 = np.array([[0],[1],[1]])\n",
    "X4 = np.array([[1],[0],[1]])\n",
    "\n",
    "X_Batch = np.array([[1,0,0,1],[1,0,1,0],[1,1,1,1]])\n",
    "Y_batch = np.array([[0,0,1,1]])"
   ]
  },
  {
   "cell_type": "markdown",
   "metadata": {},
   "source": [
    "## BGD"
   ]
  },
  {
   "cell_type": "code",
   "execution_count": 4,
   "metadata": {},
   "outputs": [],
   "source": [
    "for i in range(50000):\n",
    "    nn.train(X_Batch,Y_batch)"
   ]
  },
  {
   "cell_type": "code",
   "execution_count": 5,
   "metadata": {
    "scrolled": true
   },
   "outputs": [
    {
     "name": "stdout",
     "output_type": "stream",
     "text": [
      "[[1.14227284e-05 1.30373842e-05 9.99989185e-01 9.99985584e-01]]\n"
     ]
    }
   ],
   "source": [
    "nn.predict(X_Batch)"
   ]
  },
  {
   "cell_type": "markdown",
   "metadata": {},
   "source": [
    "## SGD"
   ]
  },
  {
   "cell_type": "code",
   "execution_count": 6,
   "metadata": {},
   "outputs": [
    {
     "name": "stdout",
     "output_type": "stream",
     "text": [
      "[[5.56734292e-06]]\n",
      "[[6.30477393e-06]]\n",
      "[[0.99999474]]\n",
      "[[0.99999298]]\n"
     ]
    }
   ],
   "source": [
    "for i in range(50000):\n",
    "    nn.train(X1,0)\n",
    "    nn.train(X2,0)\n",
    "    nn.train(X3,1)\n",
    "    nn.train(X4,1)\n",
    "nn.predict(X1)\n",
    "nn.predict(X2)\n",
    "nn.predict(X3)\n",
    "nn.predict(X4)"
   ]
  }
 ],
 "metadata": {
  "kernelspec": {
   "display_name": "Python 3",
   "language": "python",
   "name": "python3"
  },
  "language_info": {
   "codemirror_mode": {
    "name": "ipython",
    "version": 3
   },
   "file_extension": ".py",
   "mimetype": "text/x-python",
   "name": "python",
   "nbconvert_exporter": "python",
   "pygments_lexer": "ipython3",
   "version": "3.7.4"
  }
 },
 "nbformat": 4,
 "nbformat_minor": 2
}
